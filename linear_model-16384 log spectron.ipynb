{
 "cells": [
  {
   "cell_type": "markdown",
   "metadata": {},
   "source": [
    "# Preamble"
   ]
  },
  {
   "cell_type": "code",
   "execution_count": 1,
   "metadata": {},
   "outputs": [],
   "source": [
    "import os\n",
    "import numpy as np                                       # fast vectors and matrices\n",
    "import matplotlib.pyplot as plt                          # plotting\n",
    "from scipy import fft                                    # fast fourier transform\n",
    "\n",
    "from intervaltree import Interval,IntervalTree\n",
    "\n",
    "from sklearn.metrics import precision_recall_curve\n",
    "from sklearn.metrics import average_precision_score\n",
    "\n",
    "%matplotlib inline"
   ]
  },
  {
   "cell_type": "code",
   "execution_count": 4,
   "metadata": {},
   "outputs": [],
   "source": [
    "fs = 44100            # samples/second\n",
    "window_size = 16384    # fourier window size\n",
    "d =  16384/2               # number of features\n",
    "m = 128               # number of distinct notes\n",
    "n = 1000              # training data points per recording\n",
    "\n",
    "#musicnet = os.environ['MUSICNET']"
   ]
  },
  {
   "cell_type": "code",
   "execution_count": 3,
   "metadata": {},
   "outputs": [],
   "source": [
    "data = np.load(open('C:\\\\Users\\\\jq1n18\\\\Downloads\\\\musicnet.npz','rb'))\n",
    "\n",
    "# split our dataset into train and test\n",
    "test_data = ['2303','2382','1819']\n",
    "train_data = [f for f in data.files if f not in test_data]"
   ]
  },
  {
   "cell_type": "markdown",
   "metadata": {},
   "source": [
    "## RELUgram"
   ]
  },
  {
   "cell_type": "code",
   "execution_count": 4,
   "metadata": {},
   "outputs": [],
   "source": [
    "# # ReLUgrams\n",
    "# filters = np.empty((2*d,window_size))\n",
    "# x = np.linspace(0, 2*np.pi, window_size, endpoint=False)\n",
    "# for k in range(d):\n",
    "#     filters[k] = np.cos(k*x)\n",
    "#     filters[d+k] = np.sin(k*x)\n",
    "    \n",
    "# def featurize(X):\n",
    "#     #return np.log(1 + np.abs(np.dot(X,filters[:d].T)) + np.abs(np.dot(X,filters[d:].T)))\n",
    "#     return np.abs(np.dot(X,filters[:d].T)) + np.abs(np.dot(X,filters[d:].T))"
   ]
  },
  {
   "cell_type": "markdown",
   "metadata": {},
   "source": [
    "## spectrogram"
   ]
  },
  {
   "cell_type": "code",
   "execution_count": 21,
   "metadata": {
    "scrolled": true
   },
   "outputs": [
    {
     "name": "stdout",
     "output_type": "stream",
     "text": [
      "Collecting librosa\n",
      "  Downloading https://files.pythonhosted.org/packages/e9/7e/7a0f66f79a70a0a4c163ecf30429f6c1644c88654f135a9eee0bda457626/librosa-0.6.3.tar.gz (1.6MB)\n",
      "Collecting audioread>=2.0.0 (from librosa)\n",
      "  Downloading https://files.pythonhosted.org/packages/f0/41/8cd160c6b2046b997d571a744a7f398f39e954a62dd747b2aae1ad7f07d4/audioread-2.1.6.tar.gz\n",
      "Requirement already satisfied: numpy>=1.8.0 in c:\\apps\\anaconda2\\lib\\site-packages (from librosa) (1.14.3)\n",
      "Requirement already satisfied: scipy>=1.0.0 in c:\\apps\\anaconda2\\lib\\site-packages (from librosa) (1.1.0)\n",
      "Requirement already satisfied: scikit-learn!=0.19.0,>=0.14.0 in c:\\apps\\anaconda2\\lib\\site-packages (from librosa) (0.19.1)\n",
      "Collecting joblib>=0.12 (from librosa)\n",
      "  Downloading https://files.pythonhosted.org/packages/cd/c1/50a758e8247561e58cb87305b1e90b171b8c767b15b12a1734001f41d356/joblib-0.13.2-py2.py3-none-any.whl (278kB)\n",
      "Requirement already satisfied: decorator>=3.0.0 in c:\\apps\\anaconda2\\lib\\site-packages (from librosa) (4.3.0)\n",
      "Requirement already satisfied: six>=1.3 in c:\\apps\\anaconda2\\lib\\site-packages (from librosa) (1.11.0)\n",
      "Collecting resampy>=0.2.0 (from librosa)\n",
      "  Downloading https://files.pythonhosted.org/packages/14/b6/66a06d85474190b50aee1a6c09cdc95bb405ac47338b27e9b21409da1760/resampy-0.2.1.tar.gz (322kB)\n",
      "Requirement already satisfied: numba>=0.38.0 in c:\\apps\\anaconda2\\lib\\site-packages (from librosa) (0.38.0+0.g2a2b772fc.dirty)\n",
      "Requirement already satisfied: llvmlite>=0.23.0dev0 in c:\\apps\\anaconda2\\lib\\site-packages (from numba>=0.38.0->librosa) (0.23.1)\n",
      "Requirement already satisfied: enum34 in c:\\apps\\anaconda2\\lib\\site-packages (from numba>=0.38.0->librosa) (1.1.6)\n",
      "Requirement already satisfied: singledispatch in c:\\apps\\anaconda2\\lib\\site-packages (from numba>=0.38.0->librosa) (3.4.0.3)\n",
      "Requirement already satisfied: funcsigs in c:\\apps\\anaconda2\\lib\\site-packages (from numba>=0.38.0->librosa) (1.0.2)\n",
      "Building wheels for collected packages: librosa, audioread, resampy\n",
      "  Running setup.py bdist_wheel for librosa: started\n",
      "  Running setup.py bdist_wheel for librosa: finished with status 'done'\n",
      "  Stored in directory: C:\\Users\\jq1n18\\AppData\\Local\\pip\\Cache\\wheels\\ce\\49\\68\\87ba660f30e3977f0778e39ee2e944629cd37c2a0ce41f9ff1\n",
      "  Running setup.py bdist_wheel for audioread: started\n",
      "  Running setup.py bdist_wheel for audioread: finished with status 'done'\n",
      "  Stored in directory: C:\\Users\\jq1n18\\AppData\\Local\\pip\\Cache\\wheels\\53\\02\\90\\7b5c4081b7470c550ab605f600bad237dde12a6b8999b11f50\n",
      "  Running setup.py bdist_wheel for resampy: started\n",
      "  Running setup.py bdist_wheel for resampy: finished with status 'done'\n",
      "  Stored in directory: C:\\Users\\jq1n18\\AppData\\Local\\pip\\Cache\\wheels\\ff\\4f\\ed\\2e6c676c23efe5394bb40ade50662e90eb46e29b48324c5f9b\n",
      "Successfully built librosa audioread resampy\n",
      "Installing collected packages: audioread, joblib, resampy, librosa\n",
      "Successfully installed audioread-2.1.6 joblib-0.13.2 librosa-0.6.3 resampy-0.2.1\n"
     ]
    },
    {
     "name": "stderr",
     "output_type": "stream",
     "text": [
      "You are using pip version 10.0.1, however version 19.1.1 is available.\n",
      "You should consider upgrading via the 'python -m pip install --upgrade pip' command.\n"
     ]
    }
   ],
   "source": [
    "!pip install librosa"
   ]
  },
  {
   "cell_type": "code",
   "execution_count": null,
   "metadata": {},
   "outputs": [],
   "source": [
    "#melspec = melspectrogram(y=None, sr=22050, S=None, n_fft=window_size, hop_length=512, power=2.0, **kwargs):\n",
    "#logspec = librosa.logamplitude(melspec)"
   ]
  },
  {
   "cell_type": "code",
   "execution_count": 5,
   "metadata": {},
   "outputs": [],
   "source": [
    "# import librosa as librosa\n",
    "\n",
    "# def featurize(x):\n",
    "#     #melspec = np.log(librosa.feature.melspectrogram(x, n_mels = 500))\n",
    "#     spec = np.log(1+librosa.core.stft(x))\n",
    "#     #logspec = librosa.logamplitude(melspec)\n",
    "#     #logspec = logspec.T.flatten()[:, np.newaxis].T\n",
    "#     #print(melspec.shape) #128,5\n",
    "#     return spec.reshape(-1)\n"
   ]
  },
  {
   "cell_type": "code",
   "execution_count": 6,
   "metadata": {},
   "outputs": [],
   "source": [
    "# from scipy import fft\n",
    "\n",
    "# def featurize(x):\n",
    "#     return np.abs(fft(x))[0:d]"
   ]
  },
  {
   "cell_type": "code",
   "execution_count": 5,
   "metadata": {},
   "outputs": [],
   "source": [
    "# create the test set\n",
    "Xtest = np.empty([3*7500,d])\n",
    "Ytest = np.zeros([3*7500,m])\n",
    "for i in range(len(test_data)):\n",
    "    X,Y = data[test_data[i]]\n",
    "    for j in range(7500):\n",
    "        s = fs+j*512 # start from one second to give us some wiggle room for larger segments\n",
    "        norm = np.linalg.norm(X[s:s+window_size]) + 10e-6\n",
    "        Xtest[7500*i + j] = np.log(1 + np.abs(fft(X[s:s+window_size]/norm))[0:d])\n",
    "        #Xtest[7500*i + j] = featurize(X[s:s+window_size]/norm)\n",
    "        \n",
    "        # label stuff that's on in the center of the window\n",
    "        for label in Y[s+window_size/2]:\n",
    "            Ytest[7500*i + j,label.data[1]] = 1"
   ]
  },
  {
   "cell_type": "markdown",
   "metadata": {},
   "source": [
    "# Linear Model"
   ]
  },
  {
   "cell_type": "code",
   "execution_count": 6,
   "metadata": {
    "scrolled": true
   },
   "outputs": [
    {
     "name": "stdout",
     "output_type": "stream",
     "text": [
      "1788 , 1789 , 2659 , 2127 , 1818 , 2614 , 2138 , 2297 , 2131 , 1812 , 1775 , 2322 , 1777 , 1776 , 1771 , 2325 , 1772 , 2486 , 2487 , 2564 , 2529 , 2528 , 2480 , 2481 , 2154 , 2155 , 2156 , 2157 , 2150 , 2151 , 2244 , 1752 , 2247 , 2158 , 2159 , 2242 , 2243 , 2466 , 1759 , 2462 , 2463 , 1793 , 1792 , 1791 , 1790 , 2562 , 1757 , 2210 , 2619 , 2106 , 1859 , 2294 , 1755 , 2555 , 2550 , 1829 , 1828 , 2318 , 2319 , 2491 , 1824 , 2314 , 2315 , 2313 , 2310 , 1822 , 2411 , 2397 , 2392 , 2393 , 2390 , 2140 , 2283 , 2194 , 1750 , 2149 , 2148 , 2477 , 2476 , 2492 , 2473 , 2472 , 2471 , 2289 , 2147 , 2557 , 2568 , 2494 , 2209 , 1922 , 1923 , 2497 , 2542 , 2540 , 2195 , 2556 , 2410 , 2300 , 2302 , 2305 , 2304 , 2307 , 2228 , 2381 , 2177 , 2383 , 2384 , 2389 , 2415 , 2178 , 2179 , 2077 , 2076 , 2075 , 2288 , 2443 , 2607 , 1742 , 2444 , 2603 , 2608 , 2282 , 2391 , 2284 , 2527 , 2285 , 1933 , 1932 , 1931 , 2320 , 2521 , 2398 , 2523 , 2350 , 2081 , 1763 , 2239 , 1773 , 1728 , 1729 , 2576 , 1727 , 1835 , 2572 , 2573 , 2570 , 2571 , 2169 , 2379 , 2677 , 2560 , 2374 , 2490 , 2167 , 2166 , 2161 , 2160 , 2372 , 2373 , 2594 , 2595 , 2596 , 2298 , 2590 , 2591 , 2611 , 2593 , 2293 , 2292 , 2451 , 2296 , 2295 , 2483 , 1876 , 2191 , 1872 , 1873 , 2196 , 2198 , 1739 , 2201 , 2202 , 1813 , 2204 , 2207 , 2208 , 1730 , 1733 , 2678 , 1735 , 2404 , 2567 , 2566 , 2118 , 2119 , 2405 , 2368 , 2248 , 2112 , 2364 , 2114 , 2417 , 2116 , 2117 , 2622 , 2586 , 2620 , 2621 , 2626 , 2627 , 2581 , 2420 , 2203 , 2628 , 2423 , 2424 , 2588 , 1919 , 1918 , 2180 , 2186 , 2232 , 2366 , 2416 , 2365 , 1916 , 2213 , 2212 , 2211 , 2113 , 2217 , 2336 , 2215 , 2214 , 2240 , 2219 , 2218 , 2241 , 2082 , 2358 , 2359 , 1749 , 1760 , 2083 , 2514 , 2516 , 2510 , 2357 , 2512 , 2104 , 2575 , 1807 , 2433 , 2432 , 2431 , 2442 , 2403 , 2633 , 2632 , 2522 , 1768 , 2335 , 2488 , 2582 , 2345 , 1817 , 2341 , 1811 , 2343 , 2342 , 2227 , 2224 , 2225 , 2222 , 2348 , 2220 , 2221 , 2388 , 1751 , 2501 , 2509 , 1758 , 2507 , 2506 , 2505 , 2504 , 2478 , 2502 , 2406 , 2168 , 2618 , 1756 , 1893 , 2629 , 1734 , 2308 , 2436 , 2482 , 2346 , 2079 , 2422 , 2376 , 2330 , 2238 , 1805 , 2377 , 2334 , 2200 , 2441 , 2105 , 2231 , 2230 , 2080 , 2229 , 2234 , 2237 , 2371 , 2538 , 2078 , 2532 , 2533 , 2530 , 2531 , 1766 , 2537 , 1764 , 1765 ,\n"
     ]
    }
   ],
   "source": [
    "# sufficient statistics for least squares\n",
    "XTX = np.zeros((d,d))\n",
    "XTY = np.zeros((d,m))\n",
    "\n",
    "# Warning: this could take some time\n",
    "Xs = np.empty((n,d))\n",
    "for recording in train_data:\n",
    "    print recording, ',',\n",
    "    X,Y = data[recording]\n",
    "    s = np.random.randint(window_size/2,len(X)-window_size/2,n)\n",
    "    Ys = np.zeros((n,m))\n",
    "    for i in range(n):\n",
    "        norm = np.linalg.norm(X[s[i]-window_size/2:s[i]+window_size/2]) + 10e-6\n",
    "        Xs[i] = np.log(1 + np.abs(fft(X[s[i]-window_size/2:s[i]+window_size/2]/norm))[0:d])\n",
    "        #Xs[i] = featurize(X[s[i]-window_size/2:s[i]+window_size/2]/norm)\n",
    "        for label in Y[s[i]]:\n",
    "            Ys[i,label.data[1]] = 1\n",
    "    XTX += (1./n)*np.dot(Xs.T,Xs)\n",
    "    XTY += (1./n)*np.dot(Xs.T,Ys)\n",
    "XTX /= float(len(train_data))\n",
    "XTY /= float(len(train_data))"
   ]
  },
  {
   "cell_type": "code",
   "execution_count": 7,
   "metadata": {},
   "outputs": [
    {
     "name": "stdout",
     "output_type": "stream",
     "text": [
      "0.0009765625 ,  0.001953125 ,  0.00390625 ,  0.0078125 ,  0.015625 ,  0.03125 ,  0.0625 ,  0.125 ,  0.25 ,  0.5 , "
     ]
    },
    {
     "data": {
      "text/plain": [
       "Text(0,0.5,'average precision')"
      ]
     },
     "execution_count": 7,
     "metadata": {},
     "output_type": "execute_result"
    },
    {
     "name": "stdout",
     "output_type": "stream",
     "text": [
      "\n"
     ]
    },
    {
     "data": {
      "image/png": "[encoded data removed]",
      "text/plain": [
       "<Figure size 432x288 with 1 Axes>"
      ]
     },
     "metadata": {},
     "output_type": "display_data"
    }
   ],
   "source": [
    "grid = [2**i for i in range(-10,0)]\n",
    "average_precision = []\n",
    "for r in grid:\n",
    "    print r,', ',\n",
    "    w = np.linalg.solve(XTX + r*np.eye(XTX.shape[0]),XTY)\n",
    "    \n",
    "    Yhat = np.dot(Xtest,w)\n",
    "    yflat = Ytest.reshape(Ytest.shape[0]*Ytest.shape[1])\n",
    "    yhatflat = Yhat.reshape(Yhat.shape[0]*Yhat.shape[1])\n",
    "    average_precision.append(average_precision_score(yflat, yhatflat))\n",
    "    \n",
    "fig = plt.figure()\n",
    "plt.plot(range(-10,-0),average_precision,color=(41/255.,104/255.,168/255.),linewidth=3)\n",
    "fig.axes[0].set_xlabel('regularizer (order of magnitude)')\n",
    "fig.axes[0].set_ylabel('average precision')"
   ]
  },
  {
   "cell_type": "code",
   "execution_count": 8,
   "metadata": {},
   "outputs": [
    {
     "data": {
      "text/plain": [
       "Text(0,0.5,'precision')"
      ]
     },
     "execution_count": 8,
     "metadata": {},
     "output_type": "execute_result"
    },
    {
     "data": {
      "image/png": "[encoded data removed]",
      "text/plain": [
       "<Figure size 432x288 with 1 Axes>"
      ]
     },
     "metadata": {},
     "output_type": "display_data"
    }
   ],
   "source": [
    "w = np.linalg.solve(XTX + 10e-6*np.eye(XTX.shape[0]),XTY)\n",
    "Yhat = np.dot(Xtest,w)\n",
    "yflat = Ytest.reshape(Ytest.shape[0]*Ytest.shape[1])\n",
    "yhatflat = Yhat.reshape(Yhat.shape[0]*Yhat.shape[1])\n",
    "precision, recall, _ = precision_recall_curve(yflat, yhatflat)\n",
    "\n",
    "fig = plt.figure()\n",
    "plt.plot(recall,precision,color=(41/255.,104/255.,168/255.),linewidth=3)\n",
    "fig.axes[0].set_xlabel('recall')\n",
    "fig.axes[0].set_ylabel('precision')"
   ]
  },
  {
   "cell_type": "markdown",
   "metadata": {
    "collapsed": true
   },
   "source": [
    "# MIREX evaluation"
   ]
  },
  {
   "cell_type": "code",
   "execution_count": 9,
   "metadata": {},
   "outputs": [],
   "source": [
    "import mir_eval"
   ]
  },
  {
   "cell_type": "code",
   "execution_count": 10,
   "metadata": {},
   "outputs": [],
   "source": [
    "def estimate(X,subdiv=50):\n",
    "    return np.dot(X,w)"
   ]
  },
  {
   "cell_type": "code",
   "execution_count": 11,
   "metadata": {},
   "outputs": [
    {
     "name": "stdout",
     "output_type": "stream",
     "text": [
      "1788 , 1789 , 2659 , 2127 , 1818 , 2614 , 2138 , 2297 , 2131 , 1812 , 1775 , 2322 , 1777 , 1776 , 1771 , 2325 , 1772 , 2486 , 2487 , 2564 , 2529 , 2528 , 2480 , 2481 , 2154 , 2155 , 2156 , 2157 , 2150 , 2151 , 2244 , 1752 , 2247 , 2158 , 2159 , 2242 , 2243 , 2466 , 1759 , 2462 , 2463 , 1793 , 1792 , 1791 , 1790 , 2562 , 1757 , 2210 , 2619 , 2106 , 1859 , 2294 , 1755 , 2555 , 2550 , 1829 , 1828 , 2318 , 2319 , 2491 , 1824 , 2314 , 2315 , 2313 , 2310 , 1822 , 2411 , 2397 , 2392 , 2393 , 2390 , 2140 , 2283 , 2194 , 1750 , 2149 , 2148 , 2477 , 2476 , 2492 , 2473 , 2472 , 2471 , 2289 , 2147 , 2557 , 2568 , 2494 , 2209 , 1922 , 1923 , 2497 , 2542 , 2540 , 2195 , 2556 , 2410 , 2300 , 2302 , 2305 , 2304 , 2307 , 2228 , 2381 , 2177 , 2383 , 2384 , 2389 , 2415 , 2178 , 2179 , 2077 , 2076 , 2075 , 2288 , 2443 , 2607 , 1742 , 2444 , 2603 , 2608 , 2282 , 2391 , 2284 , 2527 , 2285 , 1933 , 1932 , 1931 , 2320 , 2521 , 2398 , 2523 , 2350 , 2081 , 1763 , 2239 , 1773 , 1728 , 1729 , 2576 , 1727 , 1835 , 2572 , 2573 , 2570 , 2571 , 2169 , 2379 , 2677 , 2560 , 2374 , 2490 , 2167 , 2166 , 2161 , 2160 , 2372 , 2373 , 2594 , 2595 , 2596 , 2298 , 2590 , 2591 , 2611 , 2593 , 2293 , 2292 , 2451 , 2296 , 2295 , 2483 , 1876 , 2191 , 1872 , 1873 , 2196 , 2198 , 1739 , 2201 , 2202 , 1813 , 2204 , 2207 , 2208 , 1730 , 1733 , 2678 , 1735 , 2404 , 2567 , 2566 , 2118 , 2119 , 2405 , 2368 , 2248 , 2112 , 2364 , 2114 , 2417 , 2116 , 2117 , 2622 , 2586 , 2620 , 2621 , 2626 , 2627 , 2581 , 2420 , 2203 , 2628 , 2423 , 2424 , 2588 , 1919 , 1918 , 2180 , 2186 , 2232 , 2366 , 2416 , 2365 , 1916 , 2213 , 2212 , 2211 , 2113 , 2217 , 2336 , 2215 , 2214 , 2240 , 2219 , 2218 , 2241 , 2082 , 2358 , 2359 , 1749 , 1760 , 2083 , 2514 , 2516 , 2510 , 2357 , 2512 , 2104 , 2575 , 1807 , 2433 , 2432 , 2431 , 2442 , 2403 , 2633 , 2632 , 2522 , 1768 , 2335 , 2488 , 2582 , 2345 , 1817 , 2341 , 1811 , 2343 , 2342 , 2227 , 2224 , 2225 , 2222 , 2348 , 2220 , 2221 , 2388 , 1751 , 2501 , 2509 , 1758 , 2507 , 2506 , 2505 , 2504 , 2478 , 2502 , 2406 , 2168 , 2618 , 1756 , 1893 , 2629 , 1734 , 2308 , 2436 , 2482 , 2346 , 2079 , 2422 , 2376 , 2330 , 2238 , 1805 , 2377 , 2334 , 2200 , 2441 , 2105 , 2231 , 2230 , 2080 , 2229 , 2234 , 2237 , 2371 , 2538 , 2078 , 2532 , 2533 , 2530 , 2531 , 1766 , 2537 , 1764 , 1765 ,\n"
     ]
    }
   ],
   "source": [
    "Xvalidation = np.zeros([50*len(train_data),d])\n",
    "Yvalidation = np.zeros([50*len(train_data),m])\n",
    "for i in range(len(train_data)):\n",
    "    recording = train_data[i]\n",
    "    print recording, ',',\n",
    "    X,Y = data[recording]\n",
    "    # 50 random samples from each recording\n",
    "    s = np.random.randint(window_size/2,len(X)-window_size/2,50)\n",
    "    for j in range(50):\n",
    "        norm = np.linalg.norm(X[s[j]-window_size/2:s[j]+window_size/2]) + 10e-6\n",
    "        Xvalidation[50*i+j] = np.log(1 + np.abs(fft(X[s[j]-window_size/2:s[j]+window_size/2]/norm))[0:d])\n",
    "        #Xvalidation[50*i+j] = featurize(X[s[j]-window_size/2:s[j]+window_size/2])\n",
    "        \n",
    "        # label stuff that's on in the center of the window\n",
    "        for label in Y[s[j]]:\n",
    "            Yvalidation[50*i+j,label.data[1]] = 1"
   ]
  },
  {
   "cell_type": "code",
   "execution_count": 12,
   "metadata": {},
   "outputs": [
    {
     "name": "stdout",
     "output_type": "stream",
     "text": [
      ". . . . . 0.286\n"
     ]
    },
    {
     "data": {
      "image/png": "[encoded data removed]",
      "text/plain": [
       "<Figure size 432x288 with 1 Axes>"
      ]
     },
     "metadata": {},
     "output_type": "display_data"
    }
   ],
   "source": [
    "Yhatbase = estimate(Xvalidation)\n",
    "\n",
    "# single threshold\n",
    "density = 500\n",
    "P = np.empty(density)\n",
    "R = np.empty(density)\n",
    "F = np.empty(density)\n",
    "for i in np.arange(density):\n",
    "    if i % 100 == 0: print '.',\n",
    "    c = i/float(density)\n",
    "    Yhat = Yhatbase>c\n",
    "    true_positives = np.sum(Yhat*Yvalidation)\n",
    "    P[i] = true_positives/np.sum(Yhat)\n",
    "    R[i] = true_positives/np.sum(Yvalidation)\n",
    "    F[i] = 2*(P[i]*R[i])/(P[i]+R[i])\n",
    "\n",
    "plt.plot(F)\n",
    "i = np.argmax(F)\n",
    "c = i/float(density)\n",
    "print c"
   ]
  },
  {
   "cell_type": "code",
   "execution_count": 13,
   "metadata": {},
   "outputs": [],
   "source": [
    "Yhatbase = estimate(Xtest)\n",
    "\n",
    "Yhat = Yhatbase>c\n",
    "Yhatlist = []\n",
    "Ytestlist = []\n",
    "for i in range(len(Yhat)):\n",
    "    fhat = []\n",
    "    ftest = []\n",
    "    for note in range(128):\n",
    "        if Yhat[i][note] == 1:\n",
    "            fhat.append(440.*2**((note - 69.)/12.))\n",
    "        if Ytest[i][note] == 1:\n",
    "            ftest.append(440.*2**((note - 69.)/12.))\n",
    "    Yhatlist.append(np.array(fhat))\n",
    "    Ytestlist.append(np.array(ftest))"
   ]
  },
  {
   "cell_type": "code",
   "execution_count": 14,
   "metadata": {},
   "outputs": [
    {
     "name": "stdout",
     "output_type": "stream",
     "text": [
      "0.466480341902\n",
      "0.67437309755\n",
      "0.3807244197583904\n",
      "0.926329902884476\n",
      "0.17058631685751557\n",
      "0.1550405855921148\n",
      "0.6007030004348456\n",
      "-----\n",
      "0.493664540225\n",
      "0.713672271344\n",
      "0.41205330990041006\n",
      "0.8870307290911726\n",
      "0.13128714306421221\n",
      "0.1550405855921148\n",
      "0.6007030004348456\n"
     ]
    }
   ],
   "source": [
    "P,R,Acc,Esub,Emiss,Efa,Etot,cP,cR,cAcc,cEsub,cEmiss,cEfa,cEtot = \\\n",
    "mir_eval.multipitch.metrics(np.arange(len(Ytestlist))/100.,Ytestlist,np.arange(len(Yhatlist))/100.,Yhatlist)\n",
    "\n",
    "print P\n",
    "print R\n",
    "print Acc\n",
    "print Etot\n",
    "print Esub\n",
    "print Emiss\n",
    "print Efa\n",
    "\n",
    "print '-----'\n",
    "\n",
    "print cP\n",
    "print cR\n",
    "print cAcc\n",
    "print cEtot\n",
    "print cEsub\n",
    "print cEmiss\n",
    "print cEfa"
   ]
  },
  {
   "cell_type": "markdown",
   "metadata": {},
   "source": [
    "# Precision/Recall"
   ]
  },
  {
   "cell_type": "code",
   "execution_count": 15,
   "metadata": {},
   "outputs": [
    {
     "name": "stdout",
     "output_type": "stream",
     "text": [
      "0.4664803419017659\n",
      "0.6743730975503697\n",
      "0.5514850238181671\n"
     ]
    }
   ],
   "source": [
    "Yhattestbase = estimate(Xtest)\n",
    "Yhat = Yhattestbase>c\n",
    "true_positives = np.sum(Yhat*Ytest)\n",
    "P = true_positives/(np.sum(Yhat))\n",
    "R = true_positives/(np.sum(Ytest))\n",
    "F = 2*(P*R)/(P+R)\n",
    "print P\n",
    "print R\n",
    "print F"
   ]
  },
  {
   "cell_type": "code",
   "execution_count": 16,
   "metadata": {},
   "outputs": [
    {
     "name": "stdout",
     "output_type": "stream",
     "text": [
      "0.4827980742812914\n"
     ]
    },
    {
     "data": {
      "image/png": "[encoded data removed]",
      "text/plain": [
       "<Figure size 432x288 with 1 Axes>"
      ]
     },
     "metadata": {},
     "output_type": "display_data"
    }
   ],
   "source": [
    "yflat = Ytest.reshape(Ytest.shape[0]*Ytest.shape[1])\n",
    "yhatflat = Yhattestbase.reshape(Yhattestbase.shape[0]*Yhattestbase.shape[1])\n",
    "\n",
    "precision, recall, _ = precision_recall_curve(yflat, yhatflat)\n",
    "ap = average_precision_score(yflat, yhatflat)\n",
    "plt.plot(recall,precision)\n",
    "print ap"
   ]
  },
  {
   "cell_type": "code",
   "execution_count": 17,
   "metadata": {},
   "outputs": [
    {
     "data": {
      "image/png": "[encoded data removed]",
      "text/plain": [
       "<Figure size 432x288 with 1 Axes>"
      ]
     },
     "metadata": {},
     "output_type": "display_data"
    }
   ],
   "source": [
    "plt.rcParams.update({'font.size': 12})\n",
    "\n",
    "fig = plt.figure()\n",
    "plt.plot(recall,precision)\n",
    "fig.axes[0].set_xlabel('recall')\n",
    "fig.axes[0].set_ylabel('precision')\n",
    "\n",
    "plt.tight_layout()\n",
    "plt.savefig('linear_pr.eps',format='eps', dpi=1000)"
   ]
  },
  {
   "cell_type": "code",
   "execution_count": null,
   "metadata": {},
   "outputs": [],
   "source": []
  },
  {
   "cell_type": "code",
   "execution_count": null,
   "metadata": {},
   "outputs": [],
   "source": []
  }
 ],
 "metadata": {
  "kernelspec": {
   "display_name": "Python 2",
   "language": "python",
   "name": "python2"
  },
  "language_info": {
   "codemirror_mode": {
    "name": "ipython",
    "version": 2
   },
   "file_extension": ".py",
   "mimetype": "text/x-python",
   "name": "python",
   "nbconvert_exporter": "python",
   "pygments_lexer": "ipython2",
   "version": "2.7.15"
  }
 },
 "nbformat": 4,
 "nbformat_minor": 1
}
